{
 "cells": [
  {
   "cell_type": "markdown",
   "metadata": {},
   "source": [
    "### Observability\n",
    "\n",
    "We use Arize Phoenix for observability. You can access tje Phoenix app in your browser by visiting `http://localhost:6006/` after running the following code."
   ]
  },
  {
   "cell_type": "code",
   "execution_count": 3,
   "metadata": {},
   "outputs": [
    {
     "name": "stdout",
     "output_type": "stream",
     "text": [
      "🌍 To view the Phoenix app in your browser, visit http://localhost:6006/\n",
      "📺 To view the Phoenix app in a notebook, run `px.active_session().view()`\n",
      "📖 For more information on how to use Phoenix, check out https://docs.arize.com/phoenix\n"
     ]
    }
   ],
   "source": [
    "# setup Phoenix\n",
    "import phoenix as px\n",
    "import llama_index.core\n",
    "\n",
    "px.launch_app()\n",
    "llama_index.core.set_global_handler(\"arize_phoenix\")"
   ]
  },
  {
   "cell_type": "markdown",
   "metadata": {},
   "source": [
    "Load the environment variables and the dataset"
   ]
  },
  {
   "cell_type": "code",
   "execution_count": 8,
   "metadata": {},
   "outputs": [],
   "source": [
    "import os\n",
    "from dotenv import load_dotenv\n",
    "\n",
    "import pandas as pd\n",
    "\n",
    "load_dotenv()\n",
    "\n",
    "df = pd.read_csv(\"./data/ags.csv\")"
   ]
  },
  {
   "cell_type": "code",
   "execution_count": 9,
   "metadata": {},
   "outputs": [
    {
     "data": {
      "text/plain": [
       "(919, 18)"
      ]
     },
     "execution_count": 9,
     "metadata": {},
     "output_type": "execute_result"
    }
   ],
   "source": [
    "df.shape"
   ]
  },
  {
   "cell_type": "code",
   "execution_count": 11,
   "metadata": {},
   "outputs": [
    {
     "data": {
      "text/html": [
       "<div>\n",
       "<style scoped>\n",
       "    .dataframe tbody tr th:only-of-type {\n",
       "        vertical-align: middle;\n",
       "    }\n",
       "\n",
       "    .dataframe tbody tr th {\n",
       "        vertical-align: top;\n",
       "    }\n",
       "\n",
       "    .dataframe thead th {\n",
       "        text-align: right;\n",
       "    }\n",
       "</style>\n",
       "<table border=\"1\" class=\"dataframe\">\n",
       "  <thead>\n",
       "    <tr style=\"text-align: right;\">\n",
       "      <th></th>\n",
       "      <th>LOTID</th>\n",
       "      <th>CREATIONDATE</th>\n",
       "      <th>MODIFICATIONDATE</th>\n",
       "      <th>MISCOTHERCOST</th>\n",
       "      <th>FEEDCOST</th>\n",
       "      <th>PROCESSINGCOST</th>\n",
       "      <th>VETCOST</th>\n",
       "      <th>RAILERWT</th>\n",
       "      <th>RAILERHEADCOUNT</th>\n",
       "      <th>RAILERSALES</th>\n",
       "      <th>CATTLECOST</th>\n",
       "      <th>TOTALPAYWTIN</th>\n",
       "      <th>TOTALOFFTRUCKWT</th>\n",
       "      <th>SEXTYPELOT</th>\n",
       "      <th>HEADINLOT</th>\n",
       "      <th>FEEDYARDPHONE</th>\n",
       "      <th>STARTPERIOD</th>\n",
       "      <th>ENDPERIOD</th>\n",
       "    </tr>\n",
       "  </thead>\n",
       "  <tbody>\n",
       "    <tr>\n",
       "      <th>0</th>\n",
       "      <td>S209044</td>\n",
       "      <td>29/07/2020</td>\n",
       "      <td>10/09/2021</td>\n",
       "      <td>2713.70</td>\n",
       "      <td>126065.57</td>\n",
       "      <td>2341.11</td>\n",
       "      <td>1298.60</td>\n",
       "      <td>1830</td>\n",
       "      <td>3</td>\n",
       "      <td>333.00</td>\n",
       "      <td>40164.17</td>\n",
       "      <td>36740</td>\n",
       "      <td>36780</td>\n",
       "      <td>X</td>\n",
       "      <td>117</td>\n",
       "      <td>509-547-8864</td>\n",
       "      <td>29/07/2020</td>\n",
       "      <td>00:00.0</td>\n",
       "    </tr>\n",
       "    <tr>\n",
       "      <th>1</th>\n",
       "      <td>S209047</td>\n",
       "      <td>09/08/2020</td>\n",
       "      <td>10/09/2021</td>\n",
       "      <td>3212.39</td>\n",
       "      <td>252330.47</td>\n",
       "      <td>4540.65</td>\n",
       "      <td>983.61</td>\n",
       "      <td>1400</td>\n",
       "      <td>2</td>\n",
       "      <td>626.54</td>\n",
       "      <td>122918.81</td>\n",
       "      <td>82405</td>\n",
       "      <td>80470</td>\n",
       "      <td>X</td>\n",
       "      <td>225</td>\n",
       "      <td>509-547-8864</td>\n",
       "      <td>09/08/2020</td>\n",
       "      <td>00:00.0</td>\n",
       "    </tr>\n",
       "    <tr>\n",
       "      <th>2</th>\n",
       "      <td>S207052</td>\n",
       "      <td>21/06/2020</td>\n",
       "      <td>27/01/2021</td>\n",
       "      <td>414.63</td>\n",
       "      <td>48101.11</td>\n",
       "      <td>849.93</td>\n",
       "      <td>480.46</td>\n",
       "      <td>1150</td>\n",
       "      <td>1</td>\n",
       "      <td>276.25</td>\n",
       "      <td>0.01</td>\n",
       "      <td>94492</td>\n",
       "      <td>91670</td>\n",
       "      <td>NaN</td>\n",
       "      <td>100</td>\n",
       "      <td>509-547-8864</td>\n",
       "      <td>21/06/2020</td>\n",
       "      <td>00:00.0</td>\n",
       "    </tr>\n",
       "    <tr>\n",
       "      <th>3</th>\n",
       "      <td>S209040</td>\n",
       "      <td>01/07/2020</td>\n",
       "      <td>07/06/2021</td>\n",
       "      <td>2931.72</td>\n",
       "      <td>173130.17</td>\n",
       "      <td>2043.68</td>\n",
       "      <td>1106.20</td>\n",
       "      <td>3020</td>\n",
       "      <td>3</td>\n",
       "      <td>756.25</td>\n",
       "      <td>145013.51</td>\n",
       "      <td>154977</td>\n",
       "      <td>152720</td>\n",
       "      <td>X</td>\n",
       "      <td>210</td>\n",
       "      <td>509-547-8864</td>\n",
       "      <td>01/07/2020</td>\n",
       "      <td>00:00.0</td>\n",
       "    </tr>\n",
       "    <tr>\n",
       "      <th>4</th>\n",
       "      <td>S209049</td>\n",
       "      <td>11/08/2020</td>\n",
       "      <td>30/09/2021</td>\n",
       "      <td>2343.84</td>\n",
       "      <td>192479.95</td>\n",
       "      <td>2595.63</td>\n",
       "      <td>1017.13</td>\n",
       "      <td>1010</td>\n",
       "      <td>1</td>\n",
       "      <td>245.00</td>\n",
       "      <td>61832.47</td>\n",
       "      <td>58066</td>\n",
       "      <td>56020</td>\n",
       "      <td>X</td>\n",
       "      <td>165</td>\n",
       "      <td>509-547-8864</td>\n",
       "      <td>11/08/2020</td>\n",
       "      <td>00:00.0</td>\n",
       "    </tr>\n",
       "  </tbody>\n",
       "</table>\n",
       "</div>"
      ],
      "text/plain": [
       "     LOTID CREATIONDATE MODIFICATIONDATE  MISCOTHERCOST   FEEDCOST  \\\n",
       "0  S209044   29/07/2020       10/09/2021        2713.70  126065.57   \n",
       "1  S209047   09/08/2020       10/09/2021        3212.39  252330.47   \n",
       "2  S207052   21/06/2020       27/01/2021         414.63   48101.11   \n",
       "3  S209040   01/07/2020       07/06/2021        2931.72  173130.17   \n",
       "4  S209049   11/08/2020       30/09/2021        2343.84  192479.95   \n",
       "\n",
       "   PROCESSINGCOST  VETCOST  RAILERWT  RAILERHEADCOUNT  RAILERSALES  \\\n",
       "0         2341.11  1298.60      1830                3       333.00   \n",
       "1         4540.65   983.61      1400                2       626.54   \n",
       "2          849.93   480.46      1150                1       276.25   \n",
       "3         2043.68  1106.20      3020                3       756.25   \n",
       "4         2595.63  1017.13      1010                1       245.00   \n",
       "\n",
       "   CATTLECOST  TOTALPAYWTIN  TOTALOFFTRUCKWT SEXTYPELOT  HEADINLOT  \\\n",
       "0    40164.17         36740            36780          X        117   \n",
       "1   122918.81         82405            80470          X        225   \n",
       "2        0.01         94492            91670        NaN        100   \n",
       "3   145013.51        154977           152720          X        210   \n",
       "4    61832.47         58066            56020          X        165   \n",
       "\n",
       "  FEEDYARDPHONE STARTPERIOD ENDPERIOD  \n",
       "0  509-547-8864  29/07/2020   00:00.0  \n",
       "1  509-547-8864  09/08/2020   00:00.0  \n",
       "2  509-547-8864  21/06/2020   00:00.0  \n",
       "3  509-547-8864  01/07/2020   00:00.0  \n",
       "4  509-547-8864  11/08/2020   00:00.0  "
      ]
     },
     "execution_count": 11,
     "metadata": {},
     "output_type": "execute_result"
    }
   ],
   "source": [
    "df.head()"
   ]
  },
  {
   "cell_type": "markdown",
   "metadata": {},
   "source": [
    "## Format dates\n",
    "\n",
    "We want to format all columns with dates so that .dt can be used to access the date components."
   ]
  },
  {
   "cell_type": "code",
   "execution_count": 12,
   "metadata": {},
   "outputs": [],
   "source": [
    "df['CREATIONDATE'] = pd.to_datetime(df['CREATIONDATE'], format=\"mixed\")\n",
    "df['MODIFICATIONDATE'] = pd.to_datetime(df['MODIFICATIONDATE'], format=\"mixed\")\n",
    "df['STARTPERIOD'] = pd.to_datetime(df['STARTPERIOD'], format=\"mixed\")\n",
    "df['ENDPERIOD'] = pd.to_datetime(df['ENDPERIOD'], format=\"mixed\")\n"
   ]
  },
  {
   "cell_type": "code",
   "execution_count": 13,
   "metadata": {},
   "outputs": [
    {
     "name": "stdout",
     "output_type": "stream",
     "text": [
      "<class 'pandas.core.frame.DataFrame'>\n",
      "RangeIndex: 919 entries, 0 to 918\n",
      "Data columns (total 18 columns):\n",
      " #   Column            Non-Null Count  Dtype         \n",
      "---  ------            --------------  -----         \n",
      " 0   LOTID             919 non-null    object        \n",
      " 1   CREATIONDATE      919 non-null    datetime64[ns]\n",
      " 2   MODIFICATIONDATE  919 non-null    datetime64[ns]\n",
      " 3   MISCOTHERCOST     919 non-null    float64       \n",
      " 4   FEEDCOST          919 non-null    float64       \n",
      " 5   PROCESSINGCOST    919 non-null    float64       \n",
      " 6   VETCOST           919 non-null    float64       \n",
      " 7   RAILERWT          919 non-null    int64         \n",
      " 8   RAILERHEADCOUNT   919 non-null    int64         \n",
      " 9   RAILERSALES       919 non-null    float64       \n",
      " 10  CATTLECOST        919 non-null    float64       \n",
      " 11  TOTALPAYWTIN      919 non-null    int64         \n",
      " 12  TOTALOFFTRUCKWT   919 non-null    int64         \n",
      " 13  SEXTYPELOT        753 non-null    object        \n",
      " 14  HEADINLOT         919 non-null    int64         \n",
      " 15  FEEDYARDPHONE     919 non-null    object        \n",
      " 16  STARTPERIOD       919 non-null    datetime64[ns]\n",
      " 17  ENDPERIOD         764 non-null    datetime64[ns]\n",
      "dtypes: datetime64[ns](4), float64(6), int64(5), object(3)\n",
      "memory usage: 129.4+ KB\n"
     ]
    }
   ],
   "source": [
    "df.info()"
   ]
  },
  {
   "cell_type": "code",
   "execution_count": 23,
   "metadata": {},
   "outputs": [],
   "source": [
    "from llama_index.llms.together import TogetherLLM\n",
    "from llama_index.core.settings import Settings\n",
    "from llama_index.core.query_pipeline import (\n",
    "    QueryPipeline as QP,\n",
    "    Link,\n",
    "    InputComponent,\n",
    ")\n",
    "from llama_index.experimental.query_engine.pandas import PandasInstructionParser"
   ]
  },
  {
   "cell_type": "code",
   "execution_count": 40,
   "metadata": {},
   "outputs": [],
   "source": [
    "llm = TogetherLLM(\n",
    "    model=\"meta-llama/Llama-3-70b-chat-hf\", api_key=os.environ['TOGETHER_API_KEY']\n",
    ")\n",
    "\n",
    "\n",
    "Settings.llm = llm"
   ]
  },
  {
   "cell_type": "markdown",
   "metadata": {},
   "source": [
    "We provide the model with the context of what each column represents."
   ]
  },
  {
   "cell_type": "code",
   "execution_count": 27,
   "metadata": {},
   "outputs": [],
   "source": [
    "df_info_str = \"\"\"\n",
    "LOTID: Unique key for each listing, same value as the 'key' used in the listing object in the API.\n",
    "CREATIONDATE: The date the listing was created.\n",
    "MODIFICATIONDATE: The miscother cost.\n",
    "MISCOTHERCOST: The Credit rating that was assigned at the time the listing went live. Applicable for listings pre-2009 period and will only be populated for those listings.\n",
    "FEEDCOST: The cost of the feed.\n",
    "PROCESSINGCOST: The processing cost.\n",
    "VETCOST: Cost of the vet.\n",
    "RAILERWT: Railer wt.\n",
    "RAILERHEADCOUNT: Total headcounts of railers.\n",
    "RAILERSALES: The sales of the railer.\n",
    "CATTLECOST: The cost of the cattle.\n",
    "TOTALPAYWTIN: Total payment of wt.\n",
    "TOTALOFFTRUCKWT:  Total off truck wt.\n",
    "SEXTYPELOT (numeric): Sex type of the lot.\n",
    "HEADINLOT (Alpha): Total heaads in lot.\n",
    "FEEDYARDPHONE: Phone number of feed yard.\n",
    "STARTPERIOD: The date the listing period was started.\n",
    "ENDPERIOD: The date the listing period was ended.\n",
    "\"\"\""
   ]
  },
  {
   "cell_type": "code",
   "execution_count": 28,
   "metadata": {},
   "outputs": [],
   "source": [
    "instruction_str = (\n",
    "    \"1. Convert the query to executable Python code using Pandas.\\n\"\n",
    "    \"2. The final line of code should be a Python expression that can be called with the `eval()` function.\\n\"\n",
    "    \"3. The code should represent a solution to the query.\\n\"\n",
    "    \"4. GIVE ONLY THE EXPRESSION AND NOTHING ELSE AS AN ANSWER.\\n\"\n",
    "    \"5. Do not quote the expression.\\n\"\n",
    "    \"6. The data is stored in the `df` variable\"\n",
    ")\n",
    "\n",
    "pandas_prompt_str = (\n",
    "    \"You are working with a pandas dataframe in Python.\\n\"\n",
    "    \"The name of the dataframe is `df`.\\n\"\n",
    "    \"This is the result of `print(df.head())`:\\n\"\n",
    "    \"{df_str}\\n\\n\"\n",
    "    \"This is the definition of all of the columns in the dataframe, there are no other columns besides this:\\n\"\n",
    "    \"{df_info_str}\\n\\n\"\n",
    "    \"Follow these instructions:\\n\"\n",
    "    \"{instruction_str}\\n\"\n",
    "    \"Query: {query_str}\\n\\n\"\n",
    "    \"Expression:\"\n",
    ")\n",
    "\n",
    "response_synthesis_prompt_str = (\n",
    "    \"Given an input question, synthesize a response from the query results.\\n\"\n",
    "    \"Query: {query_str}\\n\\n\"\n",
    "    \"Pandas Instructions (optional):\\n{pandas_instructions}\\n\\n\"\n",
    "    \"Pandas Output: {pandas_output}\\n\\n\"\n",
    "    \"Response: \"\n",
    ")"
   ]
  },
  {
   "cell_type": "code",
   "execution_count": 29,
   "metadata": {},
   "outputs": [],
   "source": [
    "from llama_index.core.prompts import PromptTemplate"
   ]
  },
  {
   "cell_type": "code",
   "execution_count": 30,
   "metadata": {},
   "outputs": [],
   "source": [
    "pandas_prompt = PromptTemplate(pandas_prompt_str).partial_format(\n",
    "    instruction_str=instruction_str, df_str=df.head(5), df_info_str=df_info_str\n",
    ")\n",
    "pandas_output_parser = PandasInstructionParser(df)\n",
    "response_synthesis_prompt = PromptTemplate(response_synthesis_prompt_str)"
   ]
  },
  {
   "cell_type": "markdown",
   "metadata": {},
   "source": [
    "### Custom Query Pipeline\n",
    "\n",
    "We will use a custom query pipeline to preprocess the data before it is passed to the model. This will allow us to initially generate a query, run the query, and then synthesize a response based on the query result"
   ]
  },
  {
   "cell_type": "code",
   "execution_count": 31,
   "metadata": {},
   "outputs": [],
   "source": [
    "qp = QP(\n",
    "    modules={\n",
    "        \"input\": InputComponent(),\n",
    "        \"pandas_prompt\": pandas_prompt,\n",
    "        \"llm1\": Settings.llm,\n",
    "        \"pandas_output_parser\": pandas_output_parser,\n",
    "        \"response_synthesis_prompt\": response_synthesis_prompt,\n",
    "        \"llm2\": Settings.llm,\n",
    "    },\n",
    "    verbose=True,\n",
    ")\n",
    "\n",
    "qp.add_chain([\"input\", \"pandas_prompt\", \"llm1\", \"pandas_output_parser\"])\n",
    "\n",
    "qp.add_links(\n",
    "    [\n",
    "        Link(\"input\", \"response_synthesis_prompt\", dest_key=\"query_str\"),\n",
    "        Link(\n",
    "            \"llm1\", \"response_synthesis_prompt\", dest_key=\"pandas_instructions\"\n",
    "        ),\n",
    "        Link(\n",
    "            \"pandas_output_parser\",\n",
    "            \"response_synthesis_prompt\",\n",
    "            dest_key=\"pandas_output\",\n",
    "        ),\n",
    "    ]\n",
    ")\n",
    "\n",
    "qp.add_link(\"response_synthesis_prompt\", \"llm2\")"
   ]
  },
  {
   "cell_type": "markdown",
   "metadata": {},
   "source": [
    "### Querying\n",
    "\n",
    "After running all of the following queries, you can view the traces in the Phoenix app on your browser to see exactly what is happening at each step."
   ]
  },
  {
   "cell_type": "code",
   "execution_count": 39,
   "metadata": {},
   "outputs": [
    {
     "name": "stdout",
     "output_type": "stream",
     "text": [
      "\u001b[1;3;38;2;155;135;227m> Running module input with input: \n",
      "query_str: what is total cost of vet after 2022\n",
      "\n",
      "\u001b[0m\u001b[1;3;38;2;155;135;227m> Running module pandas_prompt with input: \n",
      "query_str: what is total cost of vet after 2022\n",
      "\n",
      "\u001b[0m\u001b[1;3;38;2;155;135;227m> Running module llm1 with input: \n",
      "messages: You are working with a pandas dataframe in Python.\n",
      "The name of the dataframe is `df`.\n",
      "This is the result of `print(df.head())`:\n",
      "     LOTID CREATIONDATE MODIFICATIONDATE  MISCOTHERCOST   FEEDCOST  \\\n",
      "0 ...\n",
      "\n",
      "\u001b[0m\u001b[1;3;38;2;155;135;227m> Running module pandas_output_parser with input: \n",
      "input: assistant: (df['MODIFICATIONDATE'] > '2022-01-01').sum() * df['VETCOST'].mean()\n",
      "\n",
      "\u001b[0m\u001b[1;3;38;2;155;135;227m> Running module response_synthesis_prompt with input: \n",
      "query_str: what is total cost of vet after 2022\n",
      "pandas_instructions: assistant: (df['MODIFICATIONDATE'] > '2022-01-01').sum() * df['VETCOST'].mean()\n",
      "pandas_output: 573988.1489118608\n",
      "\n",
      "\u001b[0m\u001b[1;3;38;2;155;135;227m> Running module llm2 with input: \n",
      "messages: Given an input question, synthesize a response from the query results.\n",
      "Query: what is total cost of vet after 2022\n",
      "\n",
      "Pandas Instructions (optional):\n",
      "(df['MODIFICATIONDATE'] > '2022-01-01').sum() * df['...\n",
      "\n",
      "\u001b[0massistant: Based on the query results, the total cost of vet after 2022 is approximately $573,988.15.\n"
     ]
    }
   ],
   "source": [
    "response = qp.run(query_str=\"what is total cost of vet after 2022\")\n",
    "print(response)"
   ]
  }
 ],
 "metadata": {
  "kaggle": {
   "accelerator": "none",
   "dataSources": [
    {
     "datasetId": 2543373,
     "sourceId": 4318177,
     "sourceType": "datasetVersion"
    }
   ],
   "dockerImageVersionId": 30698,
   "isGpuEnabled": false,
   "isInternetEnabled": true,
   "language": "python",
   "sourceType": "notebook"
  },
  "kernelspec": {
   "display_name": "Python 3 (ipykernel)",
   "language": "python",
   "name": "python3"
  },
  "language_info": {
   "codemirror_mode": {
    "name": "ipython",
    "version": 3
   },
   "file_extension": ".py",
   "mimetype": "text/x-python",
   "name": "python",
   "nbconvert_exporter": "python",
   "pygments_lexer": "ipython3",
   "version": "3.12.4"
  }
 },
 "nbformat": 4,
 "nbformat_minor": 4
}
